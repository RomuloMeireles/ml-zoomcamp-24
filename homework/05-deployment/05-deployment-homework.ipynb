{
 "cells": [
  {
   "cell_type": "code",
   "execution_count": 18,
   "metadata": {},
   "outputs": [],
   "source": [
    "import requests\n",
    "import pickle\n",
    "from flask import Flask, request, jsonify"
   ]
  },
  {
   "cell_type": "markdown",
   "metadata": {},
   "source": [
    "# QUESTION 1"
   ]
  },
  {
   "cell_type": "code",
   "execution_count": 42,
   "metadata": {},
   "outputs": [],
   "source": [
    "# pip install pipenv\n",
    "# $ pipenv --version\n",
    "# pipenv, version 2024.2.0"
   ]
  },
  {
   "cell_type": "markdown",
   "metadata": {},
   "source": [
    "# QUESTION 2"
   ]
  },
  {
   "cell_type": "code",
   "execution_count": 40,
   "metadata": {},
   "outputs": [],
   "source": [
    "# pipenv install scikit-learn==1.5.2 flask gunicorn"
   ]
  },
  {
   "cell_type": "code",
   "execution_count": 43,
   "metadata": {},
   "outputs": [],
   "source": [
    "# \"scikit-learn\": {\n",
    "            # \"hashes\": [\n",
    "            #     \"sha256:03b6158efa3faaf1feea3faa884c840ebd61b6484167c711548fce208ea09445\","
   ]
  },
  {
   "cell_type": "code",
   "execution_count": 10,
   "metadata": {},
   "outputs": [
    {
     "name": "stdout",
     "output_type": "stream",
     "text": [
      "Downloaded model.bin\n",
      "Downloaded dv.bin\n"
     ]
    }
   ],
   "source": [
    "PREFIX = \"https://raw.githubusercontent.com/DataTalksClub/machine-learning-zoomcamp/master/cohorts/2024/05-deployment/homework\"\n",
    "files = {\n",
    "    \"model\": f\"{PREFIX}/model1.bin\",\n",
    "    \"dv\": f\"{PREFIX}/dv.bin\"\n",
    "}\n",
    "\n",
    "for file_name, url in files.items():\n",
    "    response = requests.get(url)\n",
    "    response.raise_for_status()\n",
    "    with open(f\"{file_name}.bin\", \"wb\") as f:\n",
    "        f.write(response.content)\n",
    "    print(f\"Downloaded {file_name}.bin\")"
   ]
  },
  {
   "cell_type": "markdown",
   "metadata": {},
   "source": [
    "# QUESTION 3"
   ]
  },
  {
   "cell_type": "code",
   "execution_count": 11,
   "metadata": {},
   "outputs": [
    {
     "name": "stderr",
     "output_type": "stream",
     "text": [
      "c:\\Users\\ctw02071\\AppData\\Local\\anaconda3\\Lib\\site-packages\\sklearn\\base.py:376: InconsistentVersionWarning: Trying to unpickle estimator LogisticRegression from version 1.5.2 when using version 1.4.2. This might lead to breaking code or invalid results. Use at your own risk. For more info please refer to:\n",
      "https://scikit-learn.org/stable/model_persistence.html#security-maintainability-limitations\n",
      "  warnings.warn(\n",
      "c:\\Users\\ctw02071\\AppData\\Local\\anaconda3\\Lib\\site-packages\\sklearn\\base.py:376: InconsistentVersionWarning: Trying to unpickle estimator DictVectorizer from version 1.5.2 when using version 1.4.2. This might lead to breaking code or invalid results. Use at your own risk. For more info please refer to:\n",
      "https://scikit-learn.org/stable/model_persistence.html#security-maintainability-limitations\n",
      "  warnings.warn(\n"
     ]
    }
   ],
   "source": [
    "with open(\"model.bin\", \"rb\") as model_file, open(\"dv.bin\", \"rb\") as dv_file:\n",
    "    model = pickle.load(model_file)\n",
    "    dv = pickle.load(dv_file)"
   ]
  },
  {
   "cell_type": "code",
   "execution_count": 12,
   "metadata": {},
   "outputs": [],
   "source": [
    "client = {\n",
    "    \"job\": \"management\",\n",
    "    \"duration\": 400,\n",
    "    \"poutcome\": \"success\"\n",
    "}"
   ]
  },
  {
   "cell_type": "code",
   "execution_count": 13,
   "metadata": {},
   "outputs": [
    {
     "name": "stdout",
     "output_type": "stream",
     "text": [
      "The probability that the client will get a subscription is: 0.909\n"
     ]
    }
   ],
   "source": [
    "X = dv.transform([client])\n",
    "\n",
    "prediction = model.predict_proba(X)[0, 1]\n",
    "\n",
    "print(f\"The probability that the client will get a subscription is: {prediction:.3f}\")"
   ]
  },
  {
   "cell_type": "markdown",
   "metadata": {},
   "source": [
    "# QUESTION 4"
   ]
  },
  {
   "cell_type": "code",
   "execution_count": 44,
   "metadata": {},
   "outputs": [],
   "source": [
    "## predict.py ##\n",
    "\n",
    "# import pickle\n",
    "# from flask import Flask, request, jsonify\n",
    "\n",
    "# # PREFIX = \"https://raw.githubusercontent.com/DataTalksClub/machine-learning-zoomcamp/master/cohorts/2024/05-deployment/homework\"\n",
    "# # files = {\n",
    "# #     \"model\": f\"{PREFIX}/model1.bin\",\n",
    "# #     \"dv\": f\"{PREFIX}/dv.bin\"\n",
    "# # }\n",
    "\n",
    "# # for file_name, url in files.items():\n",
    "# #     response = requests.get(url)\n",
    "# #     response.raise_for_status()\n",
    "# #     with open(f\"{file_name}.bin\", \"wb\") as f:\n",
    "# #         f.write(response.content)\n",
    "# #     print(f\"Downloaded {file_name}.bin\")\n",
    "\n",
    "# model = \"model.bin\"\n",
    "# dv = \"dv.bin\"\n",
    "\n",
    "# with open(model, \"rb\") as model_file, open(dv, \"rb\") as dv_file:\n",
    "#     model = pickle.load(model_file)\n",
    "#     dv = pickle.load(dv_file)\n",
    "    \n",
    "# app = Flask('subscription')\n",
    "\n",
    "# @app.route('/predict', methods=['POST'])\n",
    "# def predict():\n",
    "#     client = request.get_json()\n",
    "#     X = dv.transform([client])\n",
    "#     y_pred = model.predict_proba(X)[0, 1]  \n",
    "    \n",
    "#     result = {\n",
    "#         'subscription-probability': float(y_pred),\n",
    "#     }\n",
    "    \n",
    "#     return jsonify(result)\n",
    "    \n",
    "    \n",
    "# if __name__ == '__main__':\n",
    "#     app.run(debug=True, host='localhost', port=9698)"
   ]
  },
  {
   "cell_type": "code",
   "execution_count": null,
   "metadata": {},
   "outputs": [],
   "source": [
    "#pipenv run gunicorn --bind 0.0.0.0:9698 predict:app"
   ]
  },
  {
   "cell_type": "code",
   "execution_count": 31,
   "metadata": {},
   "outputs": [],
   "source": [
    "url = 'http://localhost:9698/predict'"
   ]
  },
  {
   "cell_type": "code",
   "execution_count": 32,
   "metadata": {},
   "outputs": [],
   "source": [
    "client = {\"job\": \"student\", \"duration\": 280, \"poutcome\": \"failure\"}"
   ]
  },
  {
   "cell_type": "code",
   "execution_count": 33,
   "metadata": {},
   "outputs": [
    {
     "data": {
      "text/plain": [
       "{'subscription-probability': 0.33480703475511053}"
      ]
     },
     "execution_count": 33,
     "metadata": {},
     "output_type": "execute_result"
    }
   ],
   "source": [
    "response = requests.post(url, json=client).json()\n",
    "response"
   ]
  },
  {
   "cell_type": "markdown",
   "metadata": {},
   "source": [
    "# QUESTION 5"
   ]
  },
  {
   "cell_type": "code",
   "execution_count": 28,
   "metadata": {},
   "outputs": [],
   "source": [
    "#$ docker pull svizor/zoomcamp-model:3.11.5-slim"
   ]
  },
  {
   "cell_type": "code",
   "execution_count": 29,
   "metadata": {},
   "outputs": [],
   "source": [
    "#$ docker images\n",
    "#svizor/zoomcamp-model   3.11.5-slim    975e7bdca086   8 days ago     130MB"
   ]
  },
  {
   "cell_type": "code",
   "execution_count": 30,
   "metadata": {},
   "outputs": [],
   "source": [
    "## DOCKERFILE ##\n",
    "\n",
    "# FROM svizor/zoomcamp-model:3.11.5-slim\n",
    "\n",
    "# RUN pip install pipenv\n",
    "\n",
    "# WORKDIR /app\n",
    "\n",
    "# COPY [\"Pipfile\", \"Pipfile.lock\", \"./\"]\n",
    "\n",
    "# RUN pipenv install --system --deploy\n",
    "\n",
    "# COPY [\"predict.py\", \"model.bin\", \"dv.bin\", \"./\"]\n",
    "\n",
    "# EXPOSE 9698\n",
    "\n",
    "# ENTRYPOINT [\"gunicorn\", \"--bind=0.0.0.0:9698\", \"predict:app\"]"
   ]
  },
  {
   "cell_type": "code",
   "execution_count": 34,
   "metadata": {},
   "outputs": [],
   "source": [
    "# $ docker build -t zoomcamp-05-deployment ."
   ]
  },
  {
   "cell_type": "markdown",
   "metadata": {},
   "source": [
    "# QUESTION 6"
   ]
  },
  {
   "cell_type": "code",
   "execution_count": 35,
   "metadata": {},
   "outputs": [],
   "source": [
    "#$ docker run -it --rm -p 9698:9698 zoomcamp-05-deployment"
   ]
  },
  {
   "cell_type": "code",
   "execution_count": 38,
   "metadata": {},
   "outputs": [],
   "source": [
    "client = {\"job\": \"management\", \"duration\": 400, \"poutcome\": \"success\"}"
   ]
  },
  {
   "cell_type": "code",
   "execution_count": 39,
   "metadata": {},
   "outputs": [
    {
     "data": {
      "text/plain": [
       "{'subscription-probability': 0.7590966516879658}"
      ]
     },
     "execution_count": 39,
     "metadata": {},
     "output_type": "execute_result"
    }
   ],
   "source": [
    "response = requests.post(url, json=client).json()\n",
    "response"
   ]
  }
 ],
 "metadata": {
  "kernelspec": {
   "display_name": "base",
   "language": "python",
   "name": "python3"
  },
  "language_info": {
   "codemirror_mode": {
    "name": "ipython",
    "version": 3
   },
   "file_extension": ".py",
   "mimetype": "text/x-python",
   "name": "python",
   "nbconvert_exporter": "python",
   "pygments_lexer": "ipython3",
   "version": "3.12.4"
  }
 },
 "nbformat": 4,
 "nbformat_minor": 2
}
